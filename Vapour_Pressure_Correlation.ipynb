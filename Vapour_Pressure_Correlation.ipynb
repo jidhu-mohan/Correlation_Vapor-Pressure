{
 "cells": [
  {
   "cell_type": "markdown",
   "metadata": {
    "deletable": true,
    "editable": true
   },
   "source": [
    "## The data on vapour pressure of water at various temperatures are given\n",
    "### Interpret using scatter plot\n",
    "### Compute the correlation"
   ]
  },
  {
   "cell_type": "code",
   "execution_count": 1,
   "metadata": {
    "collapsed": true,
    "deletable": true,
    "editable": true
   },
   "outputs": [],
   "source": [
    "import pandas as pd\n",
    "import numpy as np\n",
    "import matplotlib.pyplot as plt"
   ]
  },
  {
   "cell_type": "code",
   "execution_count": 2,
   "metadata": {
    "collapsed": false,
    "deletable": true,
    "editable": true
   },
   "outputs": [
    {
     "data": {
      "text/html": [
       "<div>\n",
       "<style scoped>\n",
       "    .dataframe tbody tr th:only-of-type {\n",
       "        vertical-align: middle;\n",
       "    }\n",
       "\n",
       "    .dataframe tbody tr th {\n",
       "        vertical-align: top;\n",
       "    }\n",
       "\n",
       "    .dataframe thead th {\n",
       "        text-align: right;\n",
       "    }\n",
       "</style>\n",
       "<table border=\"1\" class=\"dataframe\">\n",
       "  <thead>\n",
       "    <tr style=\"text-align: right;\">\n",
       "      <th></th>\n",
       "      <th>Temperature</th>\n",
       "      <th>Vapor_Pressure</th>\n",
       "    </tr>\n",
       "  </thead>\n",
       "  <tbody>\n",
       "    <tr>\n",
       "      <th>0</th>\n",
       "      <td>273</td>\n",
       "      <td>4.7</td>\n",
       "    </tr>\n",
       "    <tr>\n",
       "      <th>1</th>\n",
       "      <td>283</td>\n",
       "      <td>9.3</td>\n",
       "    </tr>\n",
       "    <tr>\n",
       "      <th>2</th>\n",
       "      <td>293</td>\n",
       "      <td>17.6</td>\n",
       "    </tr>\n",
       "    <tr>\n",
       "      <th>3</th>\n",
       "      <td>303</td>\n",
       "      <td>31.7</td>\n",
       "    </tr>\n",
       "    <tr>\n",
       "      <th>4</th>\n",
       "      <td>313</td>\n",
       "      <td>55.2</td>\n",
       "    </tr>\n",
       "    <tr>\n",
       "      <th>5</th>\n",
       "      <td>323</td>\n",
       "      <td>92.7</td>\n",
       "    </tr>\n",
       "    <tr>\n",
       "      <th>6</th>\n",
       "      <td>333</td>\n",
       "      <td>149.2</td>\n",
       "    </tr>\n",
       "    <tr>\n",
       "      <th>7</th>\n",
       "      <td>343</td>\n",
       "      <td>233.7</td>\n",
       "    </tr>\n",
       "    <tr>\n",
       "      <th>8</th>\n",
       "      <td>353</td>\n",
       "      <td>355.2</td>\n",
       "    </tr>\n",
       "    <tr>\n",
       "      <th>9</th>\n",
       "      <td>363</td>\n",
       "      <td>525.6</td>\n",
       "    </tr>\n",
       "    <tr>\n",
       "      <th>10</th>\n",
       "      <td>373</td>\n",
       "      <td>760.0</td>\n",
       "    </tr>\n",
       "  </tbody>\n",
       "</table>\n",
       "</div>"
      ],
      "text/plain": [
       "    Temperature  Vapor_Pressure\n",
       "0           273             4.7\n",
       "1           283             9.3\n",
       "2           293            17.6\n",
       "3           303            31.7\n",
       "4           313            55.2\n",
       "5           323            92.7\n",
       "6           333           149.2\n",
       "7           343           233.7\n",
       "8           353           355.2\n",
       "9           363           525.6\n",
       "10          373           760.0"
      ]
     },
     "execution_count": 2,
     "metadata": {},
     "output_type": "execute_result"
    }
   ],
   "source": [
    "data = pd.read_csv('datasets/Correlation.csv')\n",
    "data"
   ]
  },
  {
   "cell_type": "code",
   "execution_count": 3,
   "metadata": {
    "collapsed": true,
    "deletable": true,
    "editable": true
   },
   "outputs": [],
   "source": [
    "temperature = data.Temperature\n",
    "vapor_pressure = data.Vapor_Pressure"
   ]
  },
  {
   "cell_type": "code",
   "execution_count": 4,
   "metadata": {
    "collapsed": false,
    "deletable": true,
    "editable": true
   },
   "outputs": [
    {
     "data": {
      "image/png": "[encoded data removed]",
      "text/plain": [
       "<Figure size 640x480 with 1 Axes>"
      ]
     },
     "metadata": {},
     "output_type": "display_data"
    }
   ],
   "source": [
    "plt.scatter(temperature, vapor_pressure)\n",
    "plt.xlabel('Temperature (K)')\n",
    "plt.ylabel('Vapor Pressure (mmHg)')\n",
    "plt.title('Water Vapor Pressure vs Temperature')\n",
    "plt.grid(True, alpha=0.3)\n",
    "plt.show()"
   ]
  },
  {
   "cell_type": "code",
   "execution_count": 5,
   "metadata": {
    "collapsed": false,
    "deletable": true,
    "editable": true
   },
   "outputs": [
    {
     "name": "stdout",
     "output_type": "stream",
     "text": [
      "Correlation coefficient: 0.8933\n",
      "R² value: 0.7979\n"
     ]
    },
    {
     "data": {
      "text/plain": [
       "array([[1.        , 0.89327785],\n",
       "       [0.89327785, 1.        ]])"
      ]
     },
     "execution_count": 5,
     "metadata": {},
     "output_type": "execute_result"
    }
   ],
   "source": [
    "# Calculate correlation coefficient\n",
    "correlation_matrix = np.corrcoef(temperature, vapor_pressure)\n",
    "correlation_coefficient = correlation_matrix[0, 1]\n",
    "print(f\"Correlation coefficient: {correlation_coefficient:.4f}\")\n",
    "print(f\"R² value: {correlation_coefficient**2:.4f}\")\n",
    "correlation_matrix"
   ]
  },
  {
   "cell_type": "markdown",
   "metadata": {
    "deletable": true,
    "editable": true
   },
   "source": [
    "##### result is in an array since it gives all four correlation. 1 is coming in diagonal positions since the correlation with same is 1"
   ]
  },
  {
   "cell_type": "code",
   "execution_count": 6,
   "metadata": {
    "collapsed": true,
    "deletable": true,
    "editable": true
   },
   "outputs": [
    {
     "name": "stdout",
     "output_type": "stream",
     "text": [
      "Data Summary:\n",
      "Temperature range: 273.0 K to 373.0 K\n",
      "Vapor pressure range: 4.7 to 760.0 mmHg\n",
      "Number of data points: 11\n",
      "\n",
      "Mean temperature: 323.0 K\n",
      "Mean vapor pressure: 203.2 mmHg\n"
     ]
    }
   ],
   "source": [
    "# Display basic statistics about the data\n",
    "print(\"Data Summary:\")\n",
    "print(f\"Temperature range: {temperature.min():.1f} K to {temperature.max():.1f} K\")\n",
    "print(f\"Vapor pressure range: {vapor_pressure.min():.1f} to {vapor_pressure.max():.1f} mmHg\")\n",
    "print(f\"Number of data points: {len(temperature)}\")\n",
    "print(f\"\\nMean temperature: {temperature.mean():.1f} K\")\n",
    "print(f\"Mean vapor pressure: {vapor_pressure.mean():.1f} mmHg\")"
   ]
  }
 ],
 "metadata": {
  "kernelspec": {
   "display_name": "py12",
   "language": "python",
   "name": "python3"
  },
  "language_info": {
   "codemirror_mode": {
    "name": "ipython",
    "version": 3
   },
   "file_extension": ".py",
   "mimetype": "text/x-python",
   "name": "python",
   "nbconvert_exporter": "python",
   "pygments_lexer": "ipython3",
   "version": "3.12.2"
  }
 },
 "nbformat": 4,
 "nbformat_minor": 2
}
